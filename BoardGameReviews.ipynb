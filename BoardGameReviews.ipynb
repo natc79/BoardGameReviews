{
 "cells": [
  {
   "cell_type": "markdown",
   "metadata": {},
   "source": [
    "# Popular Board Games\n",
    "\n",
    "Board games have seen increasing popularity in recent years after an initial decline that occurred with the advent and growth of computer games.  Popularity is strong enough that there is entire website known as BoardGameGeek that is dedicated to discussing and reviewing board games.  The data from BoardGameGeek that is used in this analysis was scraped and compiled into CSV format by Sean Beck ( https://github.com/ThaWeatherman/scrapers/blob/master/boardgamegeek/games.csv).  The data contains the number of players, the average playing time it takes to complete one round of the board game, number of users ratings, and average ratings.  The main purpose of this code is to examine ratings of popular board games and the characteristics that leads to higher popularity.  This analysis can help in identifying the key ingredients that should be considered in designing a successful board game. It uses clustering techniques initially before running a linear regression."
   ]
  },
  {
   "cell_type": "code",
   "execution_count": 3,
   "metadata": {
    "collapsed": false
   },
   "outputs": [
    {
     "name": "stdout",
     "output_type": "stream",
     "text": [
      "       id       type                                       name  \\\n",
      "0   12333  boardgame                          Twilight Struggle   \n",
      "1  120677  boardgame                              Terra Mystica   \n",
      "2  102794  boardgame                  Caverna: The Cave Farmers   \n",
      "3   25613  boardgame  Through the Ages: A Story of Civilization   \n",
      "4    3076  boardgame                                Puerto Rico   \n",
      "5   31260  boardgame                                   Agricola   \n",
      "6  124742  boardgame                         Android: Netrunner   \n",
      "7   96848  boardgame                     Mage Knight Board Game   \n",
      "8   84876  boardgame                    The Castles of Burgundy   \n",
      "9   72125  boardgame                                    Eclipse   \n",
      "\n",
      "   yearpublished  minplayers  maxplayers  playingtime  minplaytime  \\\n",
      "0         2005.0         2.0         2.0        180.0        180.0   \n",
      "1         2012.0         2.0         5.0        150.0         60.0   \n",
      "2         2013.0         1.0         7.0        210.0         30.0   \n",
      "3         2006.0         2.0         4.0        240.0        240.0   \n",
      "4         2002.0         2.0         5.0        150.0         90.0   \n",
      "5         2007.0         1.0         5.0        150.0         30.0   \n",
      "6         2012.0         2.0         2.0         45.0         45.0   \n",
      "7         2011.0         1.0         4.0        150.0        150.0   \n",
      "8         2011.0         2.0         4.0         90.0         30.0   \n",
      "9         2011.0         2.0         6.0        200.0         60.0   \n",
      "\n",
      "   maxplaytime  minage  users_rated  average_rating  bayes_average_rating  \\\n",
      "0        180.0    13.0        20113         8.33774               8.22186   \n",
      "1        150.0    12.0        14383         8.28798               8.14232   \n",
      "2        210.0    12.0         9262         8.28994               8.06886   \n",
      "3        240.0    12.0        13294         8.20407               8.05804   \n",
      "4        150.0    12.0        39883         8.14261               8.04524   \n",
      "5        150.0    12.0        39714         8.11957               8.03847   \n",
      "6         45.0    14.0        15281         8.16760               7.97822   \n",
      "7        150.0    14.0        12697         8.15901               7.96929   \n",
      "8         90.0    12.0        15461         8.07879               7.95011   \n",
      "9        200.0    14.0        15709         8.07933               7.93244   \n",
      "\n",
      "   total_owners  total_traders  total_wanters  total_wishers  total_comments  \\\n",
      "0         26647            372           1219           5865            5347   \n",
      "1         16519            132           1586           6277            2526   \n",
      "2         12230             99           1476           5600            1700   \n",
      "3         14343            362           1084           5075            3378   \n",
      "4         44362            795            861           5414            9173   \n",
      "5         47522            837            958           6402            9310   \n",
      "6         24381            680            627           3244            3202   \n",
      "7         18769            367           1116           5427            2861   \n",
      "8         20558            215            929           3681            3244   \n",
      "9         17611            273           1108           5581            3188   \n",
      "\n",
      "   total_weights  average_weight  \n",
      "0           2562          3.4785  \n",
      "1           1423          3.8939  \n",
      "2            777          3.7761  \n",
      "3           1642          4.1590  \n",
      "4           5213          3.2943  \n",
      "5           5065          3.6160  \n",
      "6           1260          3.3103  \n",
      "7           1409          4.1292  \n",
      "8           1176          3.0442  \n",
      "9           1486          3.6359  \n",
      "(81312, 20)\n",
      "(81268, 20)\n",
      "(56894, 20)\n"
     ]
    }
   ],
   "source": [
    "import pandas as pd\n",
    "\n",
    "#read-in dataframe and drop rows that contain missing values and have no reviews\n",
    "board_games = pd.read_csv(\"board_games.csv\")\n",
    "print(board_games.head(10))\n",
    "print(board_games.shape)\n",
    "board_games = board_games.dropna()\n",
    "print(board_games.shape)\n",
    "board_games = board_games[board_games[\"average_rating\"] != 0]\n",
    "print(board_games.shape)"
   ]
  },
  {
   "cell_type": "code",
   "execution_count": 9,
   "metadata": {
    "collapsed": false
   },
   "outputs": [
    {
     "data": {
      "image/png": "[encoded data removed]",
      "text/plain": [
       "<matplotlib.figure.Figure at 0x1f9229a1d30>"
      ]
     },
     "metadata": {},
     "output_type": "display_data"
    }
   ],
   "source": [
    "import matplotlib.pyplot as plt\n",
    "%matplotlib inline\n",
    "\n",
    "board_games[\"average_rating\"].hist(edgecolor='black',lw=3, color= 'b')\n",
    "plt.title(\"Distribution of Board Game Ratings\")\n",
    "plt.xlim(0,10.0)\n",
    "plt.show()"
   ]
  },
  {
   "cell_type": "code",
   "execution_count": 9,
   "metadata": {
    "collapsed": false
   },
   "outputs": [
    {
     "data": {
      "text/plain": [
       "{'boxes': [<matplotlib.lines.Line2D at 0x7f883ef75e48>],\n",
       " 'caps': [<matplotlib.lines.Line2D at 0x7f883ef7d7f0>,\n",
       "  <matplotlib.lines.Line2D at 0x7f883ef7def0>],\n",
       " 'fliers': [<matplotlib.lines.Line2D at 0x7f883ef7ff98>],\n",
       " 'means': [],\n",
       " 'medians': [<matplotlib.lines.Line2D at 0x7f883ef7f160>],\n",
       " 'whiskers': [<matplotlib.lines.Line2D at 0x7f883ef75fd0>,\n",
       "  <matplotlib.lines.Line2D at 0x7f883ef7af98>]}"
      ]
     },
     "execution_count": 9,
     "metadata": {},
     "output_type": "execute_result"
    },
    {
     "data": {
      "image/png": "[encoded data removed]",
      "text/plain": [
       "<matplotlib.figure.Figure at 0x7f883d75ad30>"
      ]
     },
     "metadata": {},
     "output_type": "display_data"
    }
   ],
   "source": [
    "plt.boxplot(board_games[\"average_rating\"])"
   ]
  },
  {
   "cell_type": "code",
   "execution_count": 14,
   "metadata": {
    "collapsed": false
   },
   "outputs": [
    {
     "name": "stdout",
     "output_type": "stream",
     "text": [
      "Mean rating: 6.02\n",
      "Standard deviation of rating: 1.58\n"
     ]
    }
   ],
   "source": [
    "print(\"Mean rating: {}\".format(round(board_games[\"average_rating\"].mean(),2)))\n",
    "print(\"Standard deviation of rating: {}\".format(round(board_games[\"average_rating\"].std(),2)))"
   ]
  },
  {
   "cell_type": "markdown",
   "metadata": {},
   "source": [
    "### Average Ratings of Board Games\n",
    "\n",
    "Average ratings are above the mid-point of 5 with a mean of 6.016 and a standard deviation of 1.58.  This suggests that 66% of the sample falls within a rating between 4.5 and 7.5.  The distribution below the mean is more spread out indicating that the median value would be lower.  In general, the shape looks like it somewhat follows a normal distribution.\n",
    "\n",
    "A good error metric is potentially the mean squared error since average ratings can be considered continuous values (between 0-10).  Below we use clustering to examine how different characteristics of board games are related."
   ]
  },
  {
   "cell_type": "code",
   "execution_count": 18,
   "metadata": {
    "collapsed": false
   },
   "outputs": [
    {
     "data": {
      "image/png": "[encoded data removed]",
      "text/plain": [
       "<matplotlib.figure.Figure at 0x1f922a37240>"
      ]
     },
     "metadata": {},
     "output_type": "display_data"
    }
   ],
   "source": [
    "from sklearn.cluster import KMeans\n",
    "import numpy as np\n",
    "\n",
    "#Create 5 clusters over numeric columns\n",
    "kmeans_model = KMeans(n_clusters=5, random_state=1)\n",
    "numeric_columns = board_games.iloc[:,4:]\n",
    "distances = kmeans_model.fit(numeric_columns)\n",
    "labels = kmeans_model.labels_\n",
    "\n",
    "#Plot the mean and standard deviations of distances\n",
    "#Patterns can help identify a machine learning model\n",
    "game_mean = numeric_columns.apply(np.mean,axis=1)\n",
    "game_std = numeric_columns.apply(np.std,axis=1)\n",
    "plt.scatter(game_mean,game_std,c=labels)\n",
    "plt.show()\n",
    "\n"
   ]
  },
  {
   "cell_type": "markdown",
   "metadata": {},
   "source": [
    "#### Interpreting the clusters\n",
    "\n",
    "The scatter plot indicates that there is a lot of overlap between 4 of the clusters.\n",
    "This may indicate that the distances of most games are not that far from one another.  The scatter plot also indicates that as the game attributes increase in value due to user ratings, complexity etc, there are fewer games. This indicates that many games are not ranked that high and also do not get played as much resulting in lower variation.  This can be derived from observing that total_owners column is the main item driving the clustering values observed in the graph."
   ]
  },
  {
   "cell_type": "code",
   "execution_count": 20,
   "metadata": {
    "collapsed": false
   },
   "outputs": [
    {
     "name": "stdout",
     "output_type": "stream",
     "text": [
      "minplayers             -0.032701\n",
      "maxplayers             -0.008335\n",
      "playingtime             0.048994\n",
      "minplaytime             0.043985\n",
      "maxplaytime             0.048994\n",
      "minage                  0.210049\n",
      "users_rated             0.112564\n",
      "average_rating          1.000000\n",
      "bayes_average_rating    0.231563\n",
      "total_owners            0.137478\n",
      "total_traders           0.119452\n",
      "total_wanters           0.196566\n",
      "total_wishers           0.171375\n",
      "total_comments          0.123714\n",
      "total_weights           0.109691\n",
      "average_weight          0.351081\n",
      "Name: average_rating, dtype: float64\n"
     ]
    }
   ],
   "source": [
    "correlations = numeric_columns.corr()\n",
    "print(correlations[\"average_rating\"])"
   ]
  },
  {
   "cell_type": "markdown",
   "metadata": {},
   "source": [
    "#### Correlations of board game characteristics with average ratings\n",
    "\n",
    "Most of the correlations between board game characteristics and average ratings are low indicating that things such as playing time of the board game, age of te board game etc. do not play a huge role in the popularity of a board game.  However, average_weight indicating a game is more complex or difficult is highly correlated with the board game ratings.  OThe average bayes rating (derived from average rating) and the minumum age also have higher correlations with the average rating."
   ]
  },
  {
   "cell_type": "code",
   "execution_count": 24,
   "metadata": {
    "collapsed": false
   },
   "outputs": [
    {
     "name": "stdout",
     "output_type": "stream",
     "text": [
      "(56894, 15)\n",
      "(56894, 11)\n"
     ]
    }
   ],
   "source": [
    "#drop columns that are derived from average rating\n",
    "numeric_columns1 = numeric_columns.drop([\"bayes_average_rating\"],1)\n",
    "print(numeric_columns1.shape)\n",
    "#drop columns that are not correlated with average rating\n",
    "numeric_columns1 = numeric_columns.drop([\"minplayers\",\"maxplayers\",\"playingtime\",\"minplaytime\",\"maxplaytime\"],1)\n",
    "print(numeric_columns1.shape)"
   ]
  },
  {
   "cell_type": "code",
   "execution_count": 41,
   "metadata": {
    "collapsed": false
   },
   "outputs": [
    {
     "name": "stdout",
     "output_type": "stream",
     "text": [
      "                            OLS Regression Results                            \n",
      "==============================================================================\n",
      "Dep. Variable:         average_rating   R-squared:                       0.766\n",
      "Model:                            OLS   Adj. R-squared:                  0.766\n",
      "Method:                 Least Squares   F-statistic:                 3.104e+04\n",
      "Date:                Mon, 08 May 2017   Prob (F-statistic):               0.00\n",
      "Time:                        21:13:22   Log-Likelihood:            -1.4340e+05\n",
      "No. Observations:               56894   AIC:                         2.868e+05\n",
      "Df Residuals:                   56888   BIC:                         2.869e+05\n",
      "Df Model:                           6                                         \n",
      "Covariance Type:            nonrobust                                         \n",
      "==================================================================================\n",
      "                     coef    std err          t      P>|t|      [95.0% Conf. Int.]\n",
      "----------------------------------------------------------------------------------\n",
      "minage             0.4218      0.002    212.539      0.000         0.418     0.426\n",
      "total_owners       0.0002   1.71e-05      9.546      0.000         0.000     0.000\n",
      "total_wanters      0.0020      0.001      2.852      0.004         0.001     0.003\n",
      "total_traders     -0.0049      0.000    -10.107      0.000        -0.006    -0.004\n",
      "total_wishers     -0.0009      0.000     -4.438      0.000        -0.001    -0.001\n",
      "average_weight     1.1841      0.011    112.501      0.000         1.163     1.205\n",
      "==============================================================================\n",
      "Omnibus:                     3419.799   Durbin-Watson:                   1.228\n",
      "Prob(Omnibus):                  0.000   Jarque-Bera (JB):            13795.701\n",
      "Skew:                           0.155   Prob(JB):                         0.00\n",
      "Kurtosis:                       5.392   Cond. No.                     1.55e+03\n",
      "==============================================================================\n",
      "\n",
      "Warnings:\n",
      "[1] Standard Errors assume that the covariance matrix of the errors is correctly specified.\n",
      "[2] The condition number is large, 1.55e+03. This might indicate that there are\n",
      "strong multicollinearity or other numerical problems.\n"
     ]
    }
   ],
   "source": [
    "#use statsmodel to actually analyzes the significance of various variables in determining the rating\n",
    "import statsmodels.api as sm\n",
    "import numpy as np\n",
    "numeric_columns1[\"intercept\"] = 1.0\n",
    "xcols = [\"minage\",\"total_owners\",\"total_wanters\",\"total_traders\", \"total_wishers\",\"average_weight\"]\n",
    "ols = sm.OLS(numeric_columns1[\"average_rating\"],numeric_columns1[xcols])\n",
    "result = ols.fit()\n",
    "print(result.summary())"
   ]
  },
  {
   "cell_type": "code",
   "execution_count": 42,
   "metadata": {
    "collapsed": false
   },
   "outputs": [
    {
     "name": "stdout",
     "output_type": "stream",
     "text": [
      "[  8.80418294  10.32394748  10.18839123   8.62509101   7.80811976]\n",
      "0    8.33774\n",
      "1    8.28798\n",
      "2    8.28994\n",
      "3    8.20407\n",
      "4    8.14261\n",
      "Name: average_rating, dtype: float64\n",
      "5.47809416207e-15\n"
     ]
    }
   ],
   "source": [
    "#undertake a linear regression model\n",
    "\n",
    "from sklearn.linear_model import LinearRegression\n",
    "reg=LinearRegression()\n",
    "reg.fit(numeric_columns1[[\"total_owners\",\"total_wanters\",\"total_wishers\",\"average_weight\"]],numeric_columns1[\"average_rating\"])\n",
    "prediction = reg.predict(numeric_columns1[[\"total_owners\",\"total_wanters\",\"total_wishers\",\"average_weight\"]])\n",
    "print(prediction[0:5])\n",
    "print(numeric_columns[\"average_rating\"][0:5])\n",
    "\n",
    "#calculate error metric of mean squared error\n",
    "MSE = sum(prediction-numeric_columns1[\"average_rating\"])/len(prediction)\n",
    "print(MSE)\n"
   ]
  },
  {
   "cell_type": "markdown",
   "metadata": {},
   "source": [
    "### Interpretation of results\n",
    "\n",
    "The error metric of root mean squared error is extremely close to 0.  This means that the prediction is quite close to actual values and the model fit is quite good.  However, the linear regression results actually indicate that the r^2 is high.  However the right hand side variables are all statistically predictors of ratings.  Nevertheless the only meaningful design item that is included in the regression is board game complexity and minimum age (which are probably related) given that board games rated for older age groups are typically more complex."
   ]
  },
  {
   "cell_type": "markdown",
   "metadata": {},
   "source": [
    "#### Extending the analysis\n",
    "\n",
    "Here we examine if additional variable scould be created and examine problems of multicollinearity.  Below we see that constructing additional variables based on average players, average playing time, share of users rating are not strong determinants of average ratings.  Moreover, the correlations between owner, traders, wanters, and total wishers are highly correlated suggesting that we either focus only on including one of these four indicators in the model or we create index that synthesizes the four into one.\n",
    "\n",
    "# Potential next steps....\n",
    "\n",
    "That's it for the guided steps. We recommend downloading this notebook and building on it. Here are some potential next steps:\n",
    "\n",
    "Split the data into training and testing sets, and calculate error on the testing set.\n",
    "Try algorithms other than linear regression.\n",
    "Calculate new predictors based off the existing columns, such as:\n",
    "Player range (maxplayers - minplayers)\n",
    "Playing time range (maxplaytime - minplaytime)\n",
    "Average number of ratings (total_owners / users_rated)\n",
    "Scrape the latest data from BoardGameGeek to acquire more data."
   ]
  },
  {
   "cell_type": "code",
   "execution_count": 43,
   "metadata": {
    "collapsed": false
   },
   "outputs": [
    {
     "name": "stdout",
     "output_type": "stream",
     "text": [
      "minplayers             -0.032701\n",
      "maxplayers             -0.008335\n",
      "playingtime             0.048994\n",
      "minplaytime             0.043985\n",
      "maxplaytime             0.048994\n",
      "minage                  0.210049\n",
      "users_rated             0.112564\n",
      "average_rating          1.000000\n",
      "bayes_average_rating    0.231563\n",
      "total_owners            0.137478\n",
      "total_traders           0.119452\n",
      "total_wanters           0.196566\n",
      "total_wishers           0.171375\n",
      "total_comments          0.123714\n",
      "total_weights           0.109691\n",
      "average_weight          0.351081\n",
      "avg_player             -0.008839\n",
      "avg_playtime            0.025640\n",
      "share_owners_rating    -0.088467\n",
      "total_engagement        0.148763\n",
      "Name: average_rating, dtype: float64\n",
      "               total_owners  total_traders  total_wanters  total_wishers\n",
      "total_owners       1.000000       0.829875       0.688380       0.788820\n",
      "total_traders      0.829875       1.000000       0.555836       0.631443\n",
      "total_wanters      0.688380       0.555836       1.000000       0.961002\n",
      "total_wishers      0.788820       0.631443       0.961002       1.000000\n"
     ]
    }
   ],
   "source": [
    "numeric_columns[\"avg_player\"]=(numeric_columns[\"maxplayers\"]+numeric_columns[\"minplayers\"])/2\n",
    "numeric_columns[\"avg_playtime\"]=(numeric_columns[\"maxplaytime\"]-numeric_columns[\"minplaytime\"])/2\n",
    "numeric_columns[\"share_owners_rating\"]=numeric_columns[\"users_rated\"]/numeric_columns[\"total_owners\"]\n",
    "correlations = numeric_columns.corr()\n",
    "print(correlations[\"average_rating\"])\n",
    "new_correlations = numeric_columns[[\"total_owners\",\"total_traders\",\"total_wanters\",\"total_wishers\"]].corr()\n",
    "print(new_correlations)"
   ]
  },
  {
   "cell_type": "code",
   "execution_count": 44,
   "metadata": {
    "collapsed": false
   },
   "outputs": [
    {
     "name": "stdout",
     "output_type": "stream",
     "text": [
      "minplayers             -0.032701\n",
      "maxplayers             -0.008335\n",
      "playingtime             0.048994\n",
      "minplaytime             0.043985\n",
      "maxplaytime             0.048994\n",
      "minage                  0.210049\n",
      "users_rated             0.112564\n",
      "average_rating          1.000000\n",
      "bayes_average_rating    0.231563\n",
      "total_owners            0.137478\n",
      "total_traders           0.119452\n",
      "total_wanters           0.196566\n",
      "total_wishers           0.171375\n",
      "total_comments          0.123714\n",
      "total_weights           0.109691\n",
      "average_weight          0.351081\n",
      "avg_player             -0.008839\n",
      "avg_playtime            0.025640\n",
      "share_owners_rating    -0.088467\n",
      "total_engagement        0.148763\n",
      "Name: average_rating, dtype: float64\n"
     ]
    }
   ],
   "source": [
    "# new index.  For ease, let's just sum the four columns together.  However, this index does not seem better\n",
    "# so let's just select and use going forward the highest correlated of these (total_wanters)\n",
    "numeric_columns[\"total_engagement\"]=numeric_columns[\"total_owners\"] + numeric_columns[\"total_traders\"] + numeric_columns[\"total_wanters\"] + numeric_columns[\"total_wishers\"]\n",
    "correlations = numeric_columns.corr()\n",
    "print(correlations[\"average_rating\"])"
   ]
  },
  {
   "cell_type": "code",
   "execution_count": 46,
   "metadata": {
    "collapsed": false
   },
   "outputs": [
    {
     "name": "stdout",
     "output_type": "stream",
     "text": [
      "                            OLS Regression Results                            \n",
      "==============================================================================\n",
      "Dep. Variable:         average_rating   R-squared:                       0.766\n",
      "Model:                            OLS   Adj. R-squared:                  0.766\n",
      "Method:                 Least Squares   F-statistic:                 6.192e+04\n",
      "Date:                Mon, 08 May 2017   Prob (F-statistic):               0.00\n",
      "Time:                        21:13:50   Log-Likelihood:            -1.4346e+05\n",
      "No. Observations:               56894   AIC:                         2.869e+05\n",
      "Df Residuals:                   56891   BIC:                         2.869e+05\n",
      "Df Model:                           3                                         \n",
      "Covariance Type:            nonrobust                                         \n",
      "==================================================================================\n",
      "                     coef    std err          t      P>|t|      [95.0% Conf. Int.]\n",
      "----------------------------------------------------------------------------------\n",
      "minage             0.4208      0.002    212.640      0.000         0.417     0.425\n",
      "total_wanters     -0.0005      0.000     -2.628      0.009        -0.001    -0.000\n",
      "average_weight     1.1768      0.010    113.381      0.000         1.156     1.197\n",
      "==============================================================================\n",
      "Omnibus:                     3333.557   Durbin-Watson:                   1.220\n",
      "Prob(Omnibus):                  0.000   Jarque-Bera (JB):            13043.195\n",
      "Skew:                           0.158   Prob(JB):                         0.00\n",
      "Kurtosis:                       5.324   Cond. No.                         61.5\n",
      "==============================================================================\n",
      "\n",
      "Warnings:\n",
      "[1] Standard Errors assume that the covariance matrix of the errors is correctly specified.\n"
     ]
    }
   ],
   "source": [
    "import statsmodels.api as sm\n",
    "import numpy as np\n",
    "numeric_columns1[\"intercept\"] = 1.0\n",
    "xcols = [\"minage\",\"total_wanters\",\"average_weight\"]\n",
    "ols = sm.OLS(numeric_columns1[\"average_rating\"],numeric_columns1[xcols])\n",
    "result = ols.fit()\n",
    "print(result.summary())"
   ]
  },
  {
   "cell_type": "markdown",
   "metadata": {},
   "source": [
    "### Conclusions\n",
    "\n",
    "The basic linear regression analysis revealed that ratings are strong determinant of only a few key variables.  Additional analysis may look into seeing how well the selected model works on a test set of data.  Scraping the data further may also be useful to obtain data on the publisher and classification information which provides details on categories the board game fits into and mechanisms of play.  This could all be useful in helping answer the question:  What characteristics of a board game matter in determining high user ratings?"
   ]
  },
  {
   "cell_type": "code",
   "execution_count": null,
   "metadata": {
    "collapsed": true
   },
   "outputs": [],
   "source": []
  }
 ],
 "metadata": {
  "kernelspec": {
   "display_name": "Python 3",
   "language": "python",
   "name": "python3"
  },
  "language_info": {
   "codemirror_mode": {
    "name": "ipython",
    "version": 3
   },
   "file_extension": ".py",
   "mimetype": "text/x-python",
   "name": "python",
   "nbconvert_exporter": "python",
   "pygments_lexer": "ipython3",
   "version": "3.6.0"
  }
 },
 "nbformat": 4,
 "nbformat_minor": 0
}
